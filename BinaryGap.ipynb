{
 "cells": [
  {
   "cell_type": "markdown",
   "metadata": {},
   "source": [
    "A binary gap within a positive integer N is any maximal sequence of consecutive zeros that is surrounded by ones at both ends in the binary representation of N.\n",
    "\n",
    "For example, number 9 has binary representation 1001 and contains a binary gap of length 2. The number 529 has binary representation 1000010001 and contains two binary gaps: one of length 4 and one of length 3. The number 20 has binary representation 10100 and contains one binary gap of length 1. The number 15 has binary representation 1111 and has no binary gaps. The number 32 has binary representation 100000 and has no binary gaps.\n",
    "\n",
    "Write a function:\n",
    "\n",
    "def solution(N)\n",
    "\n",
    "that, given a positive integer N, returns the length of its longest binary gap. The function should return 0 if N doesn't contain a binary gap.\n",
    "\n",
    "For example, given N = 1041 the function should return 5, because N has binary representation 10000010001 and so its longest binary gap is of length 5. Given N = 32 the function should return 0, because N has binary representation '100000' and thus no binary gaps.\n",
    "\n",
    "Write an efficient algorithm for the following assumptions:\n",
    "\n",
    "N is an integer within the range [1..2,147,483,647]."
   ]
  },
  {
   "cell_type": "code",
   "execution_count": 4,
   "metadata": {},
   "outputs": [],
   "source": [
    "def solution(N):\n",
    "    # Convert the number to binary\n",
    "    #converts the integer N to a binary string and removes #the \"0b\" prefix.\n",
    "    binary = bin(N)[2:] \n",
    "    max_gap = 0     #initialization\n",
    "    current_gap = 0\n",
    "    counting = False    #Start counting only after the first 1\n",
    "\n",
    "    for bit in binary:\n",
    "        if bit == '1':\n",
    "            if counting:\n",
    "                max_gap = max(max_gap, current_gap)\n",
    "            # Start or restart counting after encountering 1\n",
    "            counting = True\n",
    "            current_gap = 0     #Reset gap counter\n",
    "        elif counting:\n",
    "            current_gap += 1\n",
    "\n",
    "    return max_gap\n",
    "\n"
   ]
  },
  {
   "cell_type": "code",
   "execution_count": 6,
   "metadata": {},
   "outputs": [
    {
     "name": "stdout",
     "output_type": "stream",
     "text": [
      "5\n",
      "0b10000010001\n",
      "5\n",
      "0b10000010001\n",
      "0\n",
      "0b1111\n",
      "0\n",
      "0b100000\n",
      "4\n",
      "0b100011101101110100011100001\n"
     ]
    }
   ],
   "source": [
    "#Example test\n",
    "print(solution(1041)) \n",
    "print(bin(1041))\n",
    "\n",
    "print(solution(1041))  \n",
    "print(bin(1041))\n",
    "\n",
    "print(solution(15)) \n",
    "print(bin(15))\n",
    "\n",
    "print(solution(32))\n",
    "print(bin(32))\n",
    "\n",
    "print(solution(74901729))  \n",
    "print(bin(74901729))"
   ]
  }
 ],
 "metadata": {
  "kernelspec": {
   "display_name": "base",
   "language": "python",
   "name": "python3"
  },
  "language_info": {
   "codemirror_mode": {
    "name": "ipython",
    "version": 3
   },
   "file_extension": ".py",
   "mimetype": "text/x-python",
   "name": "python",
   "nbconvert_exporter": "python",
   "pygments_lexer": "ipython3",
   "version": "3.11.5"
  }
 },
 "nbformat": 4,
 "nbformat_minor": 2
}
