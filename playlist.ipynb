{
 "cells": [
  {
   "cell_type": "markdown",
   "metadata": {},
   "source": [
    "You are developing a text-based playlist manager for a music streaming service. The system needs to handle a sequence of song requests where users can add songs to the end of the playlist or mark the currently playing song as 'favorite', which immediately moves it to the front of the playlist while maintaining the relative order of other songs. Write a function that processes a series of commands ('ADD song_name' or 'FAVORITE') and returns the final playlist order. Each song name is unique and consists of lowercase letters only.\n",
    "\n",
    "EXAMPLE 1\n",
    "Input:['ADD hello', 'ADD world', 'ADD coding', 'FAVORITE', 'ADD test']\n",
    "\n",
    "Output:['coding', 'hello', 'world', 'test']\n",
    "\n",
    "Explanation:After adding 3 songs, 'coding' was playing and marked favorite, then 'test' was added last\n",
    "\n",
    "EXAMPLE 2\n",
    "Input:['ADD song1', 'ADD song2', 'FAVORITE', 'ADD song3', 'FAVORITE']\n",
    "\n",
    "Output:['song3', 'song1', 'song2']\n",
    "\n",
    "Explanation:First song1 became favorite moving to front, then after adding song3, it became favorite moving to front\n",
    "\n",
    "Requirements\n",
    "1. Implement a function that takes an array of commands as input \n",
    "2. Process 'ADD song_name' by adding the song to the end of the playlist \n",
    "3. Process 'FAVORITE' by moving the first song (currently playing) to the front \n",
    "4. Maintain the relative order of other songs when moving a favorite \n",
    "5. Return the final playlist as an array of song names \n",
    "6. Handle empty playlist cases appropriately \n",
    "7. Ensure optimal time complexity for all operations"
   ]
  },
  {
   "cell_type": "code",
   "execution_count": 10,
   "metadata": {},
   "outputs": [],
   "source": [
    "from collections import deque"
   ]
  },
  {
   "cell_type": "code",
   "execution_count": 9,
   "metadata": {},
   "outputs": [
    {
     "name": "stdout",
     "output_type": "stream",
     "text": [
      "['song3', 'song2', 'song1']\n",
      "['coding', 'hello', 'world', 'test']\n"
     ]
    }
   ],
   "source": [
    "def process_playlist(commands):\n",
    "    playlist = deque()\n",
    "    \n",
    "    for command in commands:\n",
    "        if command.startswith('ADD'):\n",
    "            _, song = command.split(' ', 1)\n",
    "            playlist.append(song)\n",
    "        elif command == 'FAVORITE' and playlist:\n",
    "            #Move the currently playing song to the front of the playlist\n",
    "            song = playlist.pop()   #removes the song from the end\n",
    "            playlist.appendleft(song)   #adding the song to the front\n",
    "            \n",
    "    return list(playlist)\n",
    "    \n",
    "#Example case 1:\n",
    "print(process_playlist(['ADD song1', 'ADD song2', 'FAVORITE', 'ADD song3', 'FAVORITE']))\n",
    "\n",
    "#Example case 2:\n",
    "print(process_playlist(['ADD hello', 'ADD world', 'ADD coding', 'FAVORITE', 'ADD test']))"
   ]
  }
 ],
 "metadata": {
  "kernelspec": {
   "display_name": "base",
   "language": "python",
   "name": "python3"
  },
  "language_info": {
   "codemirror_mode": {
    "name": "ipython",
    "version": 3
   },
   "file_extension": ".py",
   "mimetype": "text/x-python",
   "name": "python",
   "nbconvert_exporter": "python",
   "pygments_lexer": "ipython3",
   "version": "3.11.5"
  }
 },
 "nbformat": 4,
 "nbformat_minor": 2
}
