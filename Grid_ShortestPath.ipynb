{
  "nbformat": 4,
  "nbformat_minor": 0,
  "metadata": {
    "colab": {
      "provenance": [],
      "authorship_tag": "ABX9TyPapZK4u6iF45dHcYKBfI37"
    },
    "kernelspec": {
      "name": "python3",
      "display_name": "Python 3"
    },
    "language_info": {
      "name": "python"
    }
  },
  "cells": [
    {
      "cell_type": "markdown",
      "source": [
        "**Shortest Path in a City Grid (Graph Problem)**\n",
        "\n",
        "Imagine you're developing a navigation system for an autonomous vehicle in a city. The car needs to find the shortest path from its starting location to a destination. The city is represented by a grid, where some cells are roads (you can move through them), and others are obstacles (you can't move through them).\n",
        "\n",
        "Problem:\n",
        "*   You're given a 2D grid grid of size N x M where 0 represents an empty road, and 1 represents an obstacle.\n",
        "*  You can move up, down, left, or right, but not diagonally.\n",
        "*  Your task is to write a function that returns the minimum number of moves to get from the top-left corner of the grid (0,0) to the bottom-right corner (N-1, M-1). If it's not possible to reach the destination, return -1.\n",
        "\n",
        "\n",
        "\n"
      ],
      "metadata": {
        "id": "LUDaHfOw1Hfe"
      }
    },
    {
      "cell_type": "code",
      "execution_count": 11,
      "metadata": {
        "id": "ZtyfiN3-Lwi1"
      },
      "outputs": [],
      "source": [
        "from collections import deque"
      ]
    },
    {
      "cell_type": "code",
      "source": [
        "def shortest_path(grid):\n",
        "    # Getting the dimensions of the grid\n",
        "    n, m = len(grid), len(grid[0])\n",
        "\n",
        "    # Edge case: If the start or end is blocked\n",
        "    if grid[0][0] == 1 or grid[n-1][m-1] == 1:\n",
        "        return -1\n",
        "\n",
        "    # Directions for moving: up, down, left, right\n",
        "    directions = [(-1, 0), (1, 0), (0, -1), (0, 1)]\n",
        "\n",
        "    # Initialize the queue with the start position and the step count (starting at 0)\n",
        "    queue = deque([(0, 0, 0)])  # (row, col, steps)\n",
        "    visited = set()  # Keep track of visited nodes\n",
        "    visited.add((0, 0))  # Start point is visited\n",
        "\n",
        "    # Perform BFS\n",
        "    while queue:\n",
        "        row, col, steps = queue.popleft()\n",
        "\n",
        "        # If we reached the destination, return the number of steps\n",
        "        if row == n - 1 and col == m - 1:\n",
        "            return steps\n",
        "\n",
        "        # Explore all four directions\n",
        "        for dr, dc in directions:\n",
        "            new_row, new_col = row + dr, col + dc\n",
        "\n",
        "            # Check if the new position is within the grid bounds and is a road (0)\n",
        "            if 0 <= new_row < n and 0 <= new_col < m and grid[new_row][new_col] == 0 and (new_row, new_col) not in visited:\n",
        "                queue.append((new_row, new_col, steps + 1))\n",
        "                visited.add((new_row, new_col))\n",
        "\n",
        "    # If we exhaust the queue without finding the destination\n",
        "    return -1\n",
        "\n"
      ],
      "metadata": {
        "id": "v22s4-nv0wUj"
      },
      "execution_count": 14,
      "outputs": []
    },
    {
      "cell_type": "code",
      "source": [
        "grid = [[0, 0, 0, 1, 0],\n",
        "        [1, 1, 0, 1, 1],\n",
        "        [0, 0, 0, 0, 0],\n",
        "        [1, 1, 1, 0, 0]]\n",
        "\n",
        "print(shortest_path(grid))  # Expected output: 7"
      ],
      "metadata": {
        "colab": {
          "base_uri": "https://localhost:8080/"
        },
        "id": "P8LYX7qS54R8",
        "outputId": "b8c2e4d3-0b32-4004-9a36-02f61962bdcb"
      },
      "execution_count": 16,
      "outputs": [
        {
          "output_type": "stream",
          "name": "stdout",
          "text": [
            "7\n"
          ]
        }
      ]
    },
    {
      "cell_type": "code",
      "source": [],
      "metadata": {
        "id": "-V-QaYqBAOhB"
      },
      "execution_count": null,
      "outputs": []
    }
  ]
}